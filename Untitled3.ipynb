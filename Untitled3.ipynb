{
  "nbformat": 4,
  "nbformat_minor": 0,
  "metadata": {
    "colab": {
      "provenance": [],
      "authorship_tag": "ABX9TyO9rVQhscTMuFITry7MfNpZ",
      "include_colab_link": true
    },
    "kernelspec": {
      "name": "python3",
      "display_name": "Python 3"
    },
    "language_info": {
      "name": "python"
    }
  },
  "cells": [
    {
      "cell_type": "markdown",
      "metadata": {
        "id": "view-in-github",
        "colab_type": "text"
      },
      "source": [
        "<a href=\"https://colab.research.google.com/github/CAPTAINY2/Assignment-Questions-5-/blob/main/Untitled3.ipynb\" target=\"_parent\"><img src=\"https://colab.research.google.com/assets/colab-badge.svg\" alt=\"Open In Colab\"/></a>"
      ]
    },
    {
      "cell_type": "markdown",
      "source": [
        "### QUESTION-1"
      ],
      "metadata": {
        "id": "XZE4cpswFP1w"
      }
    },
    {
      "cell_type": "code",
      "execution_count": 3,
      "metadata": {
        "colab": {
          "base_uri": "https://localhost:8080/"
        },
        "id": "v3mPKS6Bxddo",
        "outputId": "6fe4c020-470c-47ef-c3e7-a5c707b26789"
      },
      "outputs": [
        {
          "output_type": "stream",
          "name": "stdout",
          "text": [
            "Output: [[1, 2], [3, 4]]\n"
          ]
        }
      ],
      "source": [
        "original = [1, 2, 3, 4]\n",
        "\n",
        "def array(original, m, n):\n",
        "    if len(original) != m * n:\n",
        "        return []\n",
        "\n",
        "    result = [[0] * n for _ in range(m)]\n",
        "    for i in range(len(original)):\n",
        "        row = i // n\n",
        "        col = i % n\n",
        "        result[row][col] = original[i]\n",
        "\n",
        "    return result\n",
        "\n",
        "print(f\"Output: {array(original, 2, 2)}\")"
      ]
    },
    {
      "cell_type": "markdown",
      "source": [
        "### QUESTION-2"
      ],
      "metadata": {
        "id": "9NcwG8CFFWHR"
      }
    },
    {
      "cell_type": "code",
      "source": [
        "def rows(n):\n",
        "    row = 1\n",
        "    while n >= row:\n",
        "        n -= row\n",
        "        row += 1\n",
        "    return row - 1\n",
        "\n",
        "\n",
        "print(f\"Output: {rows(5)}\")"
      ],
      "metadata": {
        "colab": {
          "base_uri": "https://localhost:8080/"
        },
        "id": "rFZzuoye6fRq",
        "outputId": "08eb02fd-99f5-4ab9-bba5-75001bb8d8a9"
      },
      "execution_count": 9,
      "outputs": [
        {
          "output_type": "stream",
          "name": "stdout",
          "text": [
            "Output: 2\n"
          ]
        }
      ]
    },
    {
      "cell_type": "markdown",
      "source": [
        "### QUESTION-3"
      ],
      "metadata": {
        "id": "AmBbhhxnFYEZ"
      }
    },
    {
      "cell_type": "code",
      "source": [
        "nums = [-4, -1, 0, 3, 10]\n",
        "\n",
        "def square_num(nums):\n",
        "    result = []\n",
        "    for num in nums:\n",
        "        result.append(num * num)\n",
        "    result.sort()\n",
        "    return result\n",
        "\n",
        "print(f\"Output: {square_num(nums)}\")\n"
      ],
      "metadata": {
        "colab": {
          "base_uri": "https://localhost:8080/"
        },
        "id": "OixtFWL27eik",
        "outputId": "c4e716b0-d9d4-437f-9512-38b70fefd095"
      },
      "execution_count": 10,
      "outputs": [
        {
          "output_type": "stream",
          "name": "stdout",
          "text": [
            "Output: [0, 1, 9, 16, 100]\n"
          ]
        }
      ]
    },
    {
      "cell_type": "markdown",
      "source": [
        "### QUESTION-4"
      ],
      "metadata": {
        "id": "SHs67waKFZyh"
      }
    },
    {
      "cell_type": "code",
      "source": [
        "def integers(nums1, nums2):\n",
        "    set1 = set(nums1)\n",
        "    set2 = set(nums2)\n",
        "\n",
        "    distinct_nums1 = [num for num in set1 if num not in set2]\n",
        "    distinct_nums2 = [num for num in set2 if num not in set1]\n",
        "\n",
        "    return [distinct_nums1, distinct_nums2]\n",
        "    \n",
        "nums1 = [1, 2, 3]\n",
        "nums2 = [2, 4, 6]\n",
        "print(f\"Output: {integers(nums1, nums2)}\")\n"
      ],
      "metadata": {
        "colab": {
          "base_uri": "https://localhost:8080/"
        },
        "id": "3VqKi3NS8NXm",
        "outputId": "0b693400-6836-47c9-f1e2-edd70b4f8356"
      },
      "execution_count": 12,
      "outputs": [
        {
          "output_type": "stream",
          "name": "stdout",
          "text": [
            "Output: [[1, 3], [4, 6]]\n"
          ]
        }
      ]
    },
    {
      "cell_type": "markdown",
      "source": [
        "### QUESTION-5"
      ],
      "metadata": {
        "id": "xLQ-sQ1_Fbbd"
      }
    },
    {
      "cell_type": "code",
      "source": [
        "def distance_value(arr1, arr2, d):\n",
        "    distance = 0\n",
        "    for num1 in arr1:\n",
        "        found = False\n",
        "        for num2 in arr2:\n",
        "            if abs(num1 - num2) <= d:\n",
        "                found = True\n",
        "                break\n",
        "        if not found:\n",
        "            distance += 1\n",
        "    return distance\n",
        "\n",
        "arr1 = [4, 5, 8]\n",
        "arr2 = [10, 9, 1, 8]\n",
        "\n",
        "print(f\"Output: {distance_value(arr1, arr2, 2)}\")\n"
      ],
      "metadata": {
        "colab": {
          "base_uri": "https://localhost:8080/"
        },
        "id": "Hn1I_qCU9rRF",
        "outputId": "31dd9ce5-4d78-4faa-e7b0-be145adba836"
      },
      "execution_count": 14,
      "outputs": [
        {
          "output_type": "stream",
          "name": "stdout",
          "text": [
            "Output: 2\n"
          ]
        }
      ]
    },
    {
      "cell_type": "markdown",
      "source": [
        "### QUESTION-6"
      ],
      "metadata": {
        "id": "CTFfdxz7FhsR"
      }
    },
    {
      "cell_type": "code",
      "source": [
        "def duplicates(nums):\n",
        "    result = []\n",
        "    for num in nums:\n",
        "        index = abs(num) - 1\n",
        "        if nums[index] < 0:\n",
        "            result.append(index + 1)\n",
        "        else:\n",
        "            nums[index] *= -1\n",
        "    return result\n",
        "\n",
        "nums = [4, 3, 2, 7, 8, 2, 3, 1]\n",
        "print(f\"Output: {duplicates(nums)}\")\n"
      ],
      "metadata": {
        "colab": {
          "base_uri": "https://localhost:8080/"
        },
        "id": "FBBV3mK8-H9L",
        "outputId": "52e3fe6c-3af1-4fe9-deb9-df252bf38975"
      },
      "execution_count": 15,
      "outputs": [
        {
          "output_type": "stream",
          "name": "stdout",
          "text": [
            "Output: [2, 3]\n"
          ]
        }
      ]
    },
    {
      "cell_type": "markdown",
      "source": [
        "### QUESTION-7"
      ],
      "metadata": {
        "id": "eecGx-mnFnu3"
      }
    },
    {
      "cell_type": "code",
      "source": [
        "def minimum(nums):\n",
        "    left = 0\n",
        "    right = len(nums) - 1\n",
        "\n",
        "    while left < right:\n",
        "        mid = left + (right - left) // 2\n",
        "\n",
        "        if nums[mid] > nums[right]:\n",
        "            left = mid + 1\n",
        "        else:\n",
        "            right = mid\n",
        "\n",
        "    return nums[left]\n",
        "\n",
        "nums = [3, 4, 5, 1, 2]\n",
        "print(f\"Output: {minimum(nums)}\")\n"
      ],
      "metadata": {
        "colab": {
          "base_uri": "https://localhost:8080/"
        },
        "id": "ltWtku5X-H4G",
        "outputId": "4d135b9b-b612-4ad7-b14a-62d23a35d713"
      },
      "execution_count": 16,
      "outputs": [
        {
          "output_type": "stream",
          "name": "stdout",
          "text": [
            "Output: 1\n"
          ]
        }
      ]
    },
    {
      "cell_type": "markdown",
      "source": [
        "### QUESTION-8"
      ],
      "metadata": {
        "id": "DhdlzSnTFqwl"
      }
    },
    {
      "cell_type": "code",
      "source": [
        "def original_arr(changed):\n",
        "    if len(changed) % 2 != 0:\n",
        "        return [] \n",
        "    \n",
        "    counter = {}\n",
        "    for i in changed:\n",
        "        if i not in counter:\n",
        "            counter[i] = 0\n",
        "        counter[i] += 1\n",
        "    \n",
        "    original = []\n",
        "    for i in sorted(changed):\n",
        "        if i in counter and counter[i] > 0:\n",
        "            if i * 2 not in counter or counter[i * 2] <= 0:\n",
        "                return []  \n",
        "            original.append(i)\n",
        "            counter[i] -= 1\n",
        "            counter[i * 2] -= 1\n",
        "    \n",
        "    return original\n",
        "\n",
        "changed = [1, 3, 4, 2, 6, 8]\n",
        "print(f\"Output: {original_arr(changed)}\")\n"
      ],
      "metadata": {
        "colab": {
          "base_uri": "https://localhost:8080/"
        },
        "id": "a-clAHza-Hjm",
        "outputId": "40fedb98-0231-47a9-fd52-aff82ff92d49"
      },
      "execution_count": 25,
      "outputs": [
        {
          "output_type": "stream",
          "name": "stdout",
          "text": [
            "Output: [1, 3, 4]\n"
          ]
        }
      ]
    },
    {
      "cell_type": "code",
      "source": [],
      "metadata": {
        "id": "HetCKRIkF_Vu"
      },
      "execution_count": 24,
      "outputs": []
    }
  ]
}